{
 "cells": [
  {
   "cell_type": "markdown",
   "metadata": {},
   "source": [
    "## Lab 4: Previsão de Eleição de Deputados \n",
    "\n",
    "Autora: Lília Sampaio\n",
    "\n",
    "Neste trabalho queremos prever através do uso de modelos de classificação quais candidatos a deputado foram eleitos em 2014. Primeiro, importamos as bibliotecas necessárias para fazer uma análise descritiva dos dados e conhecer suas propriedades. "
   ]
  },
  {
   "cell_type": "code",
   "execution_count": 153,
   "metadata": {},
   "outputs": [],
   "source": [
    "import pandas as pd\n",
    "import numpy as np\n",
    "import seaborn as sns\n",
    "import matplotlib\n",
    "\n",
    "import matplotlib.pyplot as plt\n",
    "from scipy.stats import skew\n",
    "from scipy.stats.stats import pearsonr\n",
    "\n",
    "import warnings\n",
    "warnings.filterwarnings('ignore')\n",
    "\n",
    "%config InlineBackend.figure_format = 'retina' #set 'png' here when working on notebook\n",
    "%matplotlib inline"
   ]
  },
  {
   "cell_type": "markdown",
   "metadata": {},
   "source": [
    "### 1. Análise descritiva dos dados\n",
    "\n",
    "Nesta atividade usaremos os dados referentes às eleições para deputado dos anos de 2006 à 2010 para classificar quais candidatos foram eleitos em 2014. Usaremos os dados de 2006 à 2010 como treino, e uma parte dos dados de 2014 como teste. Estes dados são carregados abaixo:"
   ]
  },
  {
   "cell_type": "code",
   "execution_count": 154,
   "metadata": {},
   "outputs": [],
   "source": [
    "train = pd.read_csv(\"train.csv\")"
   ]
  },
  {
   "cell_type": "markdown",
   "metadata": {},
   "source": [
    "Um trecho inicial desses datasets nos mostra a natureza dos dados e as variáveis que encontramos à disposição para serem usadas na classificação, entre elas estado e partido do candidato, valor total de sua receita, despesas e recursos recebidos:"
   ]
  },
  {
   "cell_type": "code",
   "execution_count": 155,
   "metadata": {},
   "outputs": [
    {
     "data": {
      "text/html": [
       "<div>\n",
       "<style scoped>\n",
       "    .dataframe tbody tr th:only-of-type {\n",
       "        vertical-align: middle;\n",
       "    }\n",
       "\n",
       "    .dataframe tbody tr th {\n",
       "        vertical-align: top;\n",
       "    }\n",
       "\n",
       "    .dataframe thead th {\n",
       "        text-align: right;\n",
       "    }\n",
       "</style>\n",
       "<table border=\"1\" class=\"dataframe\">\n",
       "  <thead>\n",
       "    <tr style=\"text-align: right;\">\n",
       "      <th></th>\n",
       "      <th>ano</th>\n",
       "      <th>sequencial_candidato</th>\n",
       "      <th>nome</th>\n",
       "      <th>uf</th>\n",
       "      <th>partido</th>\n",
       "      <th>quantidade_doacoes</th>\n",
       "      <th>quantidade_doadores</th>\n",
       "      <th>total_receita</th>\n",
       "      <th>media_receita</th>\n",
       "      <th>recursos_de_outros_candidatos.comites</th>\n",
       "      <th>...</th>\n",
       "      <th>quantidade_despesas</th>\n",
       "      <th>quantidade_fornecedores</th>\n",
       "      <th>total_despesa</th>\n",
       "      <th>media_despesa</th>\n",
       "      <th>cargo</th>\n",
       "      <th>sexo</th>\n",
       "      <th>grau</th>\n",
       "      <th>estado_civil</th>\n",
       "      <th>ocupacao</th>\n",
       "      <th>situacao</th>\n",
       "    </tr>\n",
       "  </thead>\n",
       "  <tbody>\n",
       "    <tr>\n",
       "      <th>0</th>\n",
       "      <td>2006</td>\n",
       "      <td>10001</td>\n",
       "      <td>JOSÉ LUIZ NOGUEIRA DE SOUSA</td>\n",
       "      <td>AP</td>\n",
       "      <td>PT</td>\n",
       "      <td>6</td>\n",
       "      <td>6</td>\n",
       "      <td>16600.00</td>\n",
       "      <td>2766.67</td>\n",
       "      <td>0.0</td>\n",
       "      <td>...</td>\n",
       "      <td>14</td>\n",
       "      <td>14</td>\n",
       "      <td>16583.60</td>\n",
       "      <td>1184.54</td>\n",
       "      <td>DEPUTADO FEDERAL</td>\n",
       "      <td>MASCULINO</td>\n",
       "      <td>ENSINO MÉDIO COMPLETO</td>\n",
       "      <td>CASADO(A)</td>\n",
       "      <td>VEREADOR</td>\n",
       "      <td>nao_eleito</td>\n",
       "    </tr>\n",
       "    <tr>\n",
       "      <th>1</th>\n",
       "      <td>2006</td>\n",
       "      <td>10002</td>\n",
       "      <td>LOIVA DE OLIVEIRA</td>\n",
       "      <td>RO</td>\n",
       "      <td>PT</td>\n",
       "      <td>13</td>\n",
       "      <td>13</td>\n",
       "      <td>22826.00</td>\n",
       "      <td>1755.85</td>\n",
       "      <td>6625.0</td>\n",
       "      <td>...</td>\n",
       "      <td>24</td>\n",
       "      <td>23</td>\n",
       "      <td>20325.99</td>\n",
       "      <td>846.92</td>\n",
       "      <td>DEPUTADO FEDERAL</td>\n",
       "      <td>FEMININO</td>\n",
       "      <td>SUPERIOR COMPLETO</td>\n",
       "      <td>SOLTEIRO(A)</td>\n",
       "      <td>SERVIDOR PÚBLICO ESTADUAL</td>\n",
       "      <td>nao_eleito</td>\n",
       "    </tr>\n",
       "    <tr>\n",
       "      <th>2</th>\n",
       "      <td>2006</td>\n",
       "      <td>10002</td>\n",
       "      <td>MARIA DALVA DE SOUZA FIGUEIREDO</td>\n",
       "      <td>AP</td>\n",
       "      <td>PT</td>\n",
       "      <td>17</td>\n",
       "      <td>16</td>\n",
       "      <td>158120.80</td>\n",
       "      <td>9301.22</td>\n",
       "      <td>2250.0</td>\n",
       "      <td>...</td>\n",
       "      <td>123</td>\n",
       "      <td>108</td>\n",
       "      <td>146011.70</td>\n",
       "      <td>1187.09</td>\n",
       "      <td>DEPUTADO FEDERAL</td>\n",
       "      <td>FEMININO</td>\n",
       "      <td>SUPERIOR COMPLETO</td>\n",
       "      <td>VIÚVO(A)</td>\n",
       "      <td>PEDAGOGO</td>\n",
       "      <td>eleito</td>\n",
       "    </tr>\n",
       "    <tr>\n",
       "      <th>3</th>\n",
       "      <td>2006</td>\n",
       "      <td>10002</td>\n",
       "      <td>ROMALDO MILANI</td>\n",
       "      <td>MS</td>\n",
       "      <td>PRONA</td>\n",
       "      <td>6</td>\n",
       "      <td>6</td>\n",
       "      <td>3001.12</td>\n",
       "      <td>500.19</td>\n",
       "      <td>0.0</td>\n",
       "      <td>...</td>\n",
       "      <td>8</td>\n",
       "      <td>8</td>\n",
       "      <td>3001.12</td>\n",
       "      <td>375.14</td>\n",
       "      <td>DEPUTADO FEDERAL</td>\n",
       "      <td>MASCULINO</td>\n",
       "      <td>ENSINO MÉDIO INCOMPLETO</td>\n",
       "      <td>CASADO(A)</td>\n",
       "      <td>MILITAR REFORMADO</td>\n",
       "      <td>nao_eleito</td>\n",
       "    </tr>\n",
       "    <tr>\n",
       "      <th>4</th>\n",
       "      <td>2006</td>\n",
       "      <td>10003</td>\n",
       "      <td>ANSELMO DE JESUS ABREU</td>\n",
       "      <td>RO</td>\n",
       "      <td>PT</td>\n",
       "      <td>48</td>\n",
       "      <td>48</td>\n",
       "      <td>119820.00</td>\n",
       "      <td>2496.25</td>\n",
       "      <td>0.0</td>\n",
       "      <td>...</td>\n",
       "      <td>133</td>\n",
       "      <td>120</td>\n",
       "      <td>116416.64</td>\n",
       "      <td>875.31</td>\n",
       "      <td>DEPUTADO FEDERAL</td>\n",
       "      <td>MASCULINO</td>\n",
       "      <td>ENSINO FUNDAMENTAL COMPLETO</td>\n",
       "      <td>CASADO(A)</td>\n",
       "      <td>DEPUTADO</td>\n",
       "      <td>eleito</td>\n",
       "    </tr>\n",
       "  </tbody>\n",
       "</table>\n",
       "<p>5 rows × 24 columns</p>\n",
       "</div>"
      ],
      "text/plain": [
       "    ano  sequencial_candidato                             nome  uf partido  \\\n",
       "0  2006                 10001      JOSÉ LUIZ NOGUEIRA DE SOUSA  AP      PT   \n",
       "1  2006                 10002                LOIVA DE OLIVEIRA  RO      PT   \n",
       "2  2006                 10002  MARIA DALVA DE SOUZA FIGUEIREDO  AP      PT   \n",
       "3  2006                 10002                   ROMALDO MILANI  MS   PRONA   \n",
       "4  2006                 10003           ANSELMO DE JESUS ABREU  RO      PT   \n",
       "\n",
       "   quantidade_doacoes  quantidade_doadores  total_receita  media_receita  \\\n",
       "0                   6                    6       16600.00        2766.67   \n",
       "1                  13                   13       22826.00        1755.85   \n",
       "2                  17                   16      158120.80        9301.22   \n",
       "3                   6                    6        3001.12         500.19   \n",
       "4                  48                   48      119820.00        2496.25   \n",
       "\n",
       "   recursos_de_outros_candidatos.comites     ...      quantidade_despesas  \\\n",
       "0                                    0.0     ...                       14   \n",
       "1                                 6625.0     ...                       24   \n",
       "2                                 2250.0     ...                      123   \n",
       "3                                    0.0     ...                        8   \n",
       "4                                    0.0     ...                      133   \n",
       "\n",
       "   quantidade_fornecedores  total_despesa  media_despesa             cargo  \\\n",
       "0                       14       16583.60        1184.54  DEPUTADO FEDERAL   \n",
       "1                       23       20325.99         846.92  DEPUTADO FEDERAL   \n",
       "2                      108      146011.70        1187.09  DEPUTADO FEDERAL   \n",
       "3                        8        3001.12         375.14  DEPUTADO FEDERAL   \n",
       "4                      120      116416.64         875.31  DEPUTADO FEDERAL   \n",
       "\n",
       "        sexo                         grau  estado_civil  \\\n",
       "0  MASCULINO        ENSINO MÉDIO COMPLETO     CASADO(A)   \n",
       "1   FEMININO            SUPERIOR COMPLETO   SOLTEIRO(A)   \n",
       "2   FEMININO            SUPERIOR COMPLETO      VIÚVO(A)   \n",
       "3  MASCULINO      ENSINO MÉDIO INCOMPLETO     CASADO(A)   \n",
       "4  MASCULINO  ENSINO FUNDAMENTAL COMPLETO     CASADO(A)   \n",
       "\n",
       "                    ocupacao    situacao  \n",
       "0                   VEREADOR  nao_eleito  \n",
       "1  SERVIDOR PÚBLICO ESTADUAL  nao_eleito  \n",
       "2                   PEDAGOGO      eleito  \n",
       "3          MILITAR REFORMADO  nao_eleito  \n",
       "4                   DEPUTADO      eleito  \n",
       "\n",
       "[5 rows x 24 columns]"
      ]
     },
     "execution_count": 155,
     "metadata": {},
     "output_type": "execute_result"
    }
   ],
   "source": [
    "train.head()"
   ]
  },
  {
   "cell_type": "markdown",
   "metadata": {},
   "source": [
    "Uma análise nos valores médios das variáveis, suas medianas, variância e distribuição podem ser vistos abaixo:"
   ]
  },
  {
   "cell_type": "code",
   "execution_count": 156,
   "metadata": {
    "scrolled": true
   },
   "outputs": [
    {
     "data": {
      "text/html": [
       "<div>\n",
       "<style scoped>\n",
       "    .dataframe tbody tr th:only-of-type {\n",
       "        vertical-align: middle;\n",
       "    }\n",
       "\n",
       "    .dataframe tbody tr th {\n",
       "        vertical-align: top;\n",
       "    }\n",
       "\n",
       "    .dataframe thead th {\n",
       "        text-align: right;\n",
       "    }\n",
       "</style>\n",
       "<table border=\"1\" class=\"dataframe\">\n",
       "  <thead>\n",
       "    <tr style=\"text-align: right;\">\n",
       "      <th></th>\n",
       "      <th>ano</th>\n",
       "      <th>sequencial_candidato</th>\n",
       "      <th>quantidade_doacoes</th>\n",
       "      <th>quantidade_doadores</th>\n",
       "      <th>total_receita</th>\n",
       "      <th>media_receita</th>\n",
       "      <th>recursos_de_outros_candidatos.comites</th>\n",
       "      <th>recursos_de_pessoas_fisicas</th>\n",
       "      <th>recursos_de_pessoas_juridicas</th>\n",
       "      <th>recursos_proprios</th>\n",
       "      <th>recursos_de_partido_politico</th>\n",
       "      <th>quantidade_despesas</th>\n",
       "      <th>quantidade_fornecedores</th>\n",
       "      <th>total_despesa</th>\n",
       "      <th>media_despesa</th>\n",
       "    </tr>\n",
       "  </thead>\n",
       "  <tbody>\n",
       "    <tr>\n",
       "      <th>count</th>\n",
       "      <td>7622.000000</td>\n",
       "      <td>7.622000e+03</td>\n",
       "      <td>7622.000000</td>\n",
       "      <td>7622.000000</td>\n",
       "      <td>7.622000e+03</td>\n",
       "      <td>7622.000000</td>\n",
       "      <td>7.622000e+03</td>\n",
       "      <td>7.622000e+03</td>\n",
       "      <td>7.622000e+03</td>\n",
       "      <td>7.622000e+03</td>\n",
       "      <td>7.622000e+03</td>\n",
       "      <td>7622.000000</td>\n",
       "      <td>7622.000000</td>\n",
       "      <td>7.622000e+03</td>\n",
       "      <td>7622.000000</td>\n",
       "    </tr>\n",
       "    <tr>\n",
       "      <th>mean</th>\n",
       "      <td>2008.120703</td>\n",
       "      <td>9.039623e+10</td>\n",
       "      <td>27.673839</td>\n",
       "      <td>25.239963</td>\n",
       "      <td>1.732199e+05</td>\n",
       "      <td>5456.131027</td>\n",
       "      <td>1.965750e+04</td>\n",
       "      <td>2.315820e+04</td>\n",
       "      <td>7.921689e+04</td>\n",
       "      <td>2.577600e+04</td>\n",
       "      <td>2.541136e+04</td>\n",
       "      <td>130.485174</td>\n",
       "      <td>107.849777</td>\n",
       "      <td>1.554507e+05</td>\n",
       "      <td>1346.643975</td>\n",
       "    </tr>\n",
       "    <tr>\n",
       "      <th>std</th>\n",
       "      <td>1.996485</td>\n",
       "      <td>9.893847e+10</td>\n",
       "      <td>116.511888</td>\n",
       "      <td>101.804938</td>\n",
       "      <td>4.444187e+05</td>\n",
       "      <td>14003.313610</td>\n",
       "      <td>1.041636e+05</td>\n",
       "      <td>6.689215e+04</td>\n",
       "      <td>2.514138e+05</td>\n",
       "      <td>1.495312e+05</td>\n",
       "      <td>1.308613e+05</td>\n",
       "      <td>411.039689</td>\n",
       "      <td>333.905884</td>\n",
       "      <td>3.901120e+05</td>\n",
       "      <td>6164.552399</td>\n",
       "    </tr>\n",
       "    <tr>\n",
       "      <th>min</th>\n",
       "      <td>2006.000000</td>\n",
       "      <td>1.000100e+04</td>\n",
       "      <td>1.000000</td>\n",
       "      <td>1.000000</td>\n",
       "      <td>0.000000e+00</td>\n",
       "      <td>0.000000</td>\n",
       "      <td>0.000000e+00</td>\n",
       "      <td>0.000000e+00</td>\n",
       "      <td>0.000000e+00</td>\n",
       "      <td>0.000000e+00</td>\n",
       "      <td>0.000000e+00</td>\n",
       "      <td>1.000000</td>\n",
       "      <td>1.000000</td>\n",
       "      <td>0.000000e+00</td>\n",
       "      <td>0.000000</td>\n",
       "    </tr>\n",
       "    <tr>\n",
       "      <th>25%</th>\n",
       "      <td>2006.000000</td>\n",
       "      <td>1.055500e+04</td>\n",
       "      <td>4.000000</td>\n",
       "      <td>3.000000</td>\n",
       "      <td>2.829208e+03</td>\n",
       "      <td>625.000000</td>\n",
       "      <td>0.000000e+00</td>\n",
       "      <td>0.000000e+00</td>\n",
       "      <td>0.000000e+00</td>\n",
       "      <td>0.000000e+00</td>\n",
       "      <td>0.000000e+00</td>\n",
       "      <td>6.000000</td>\n",
       "      <td>5.000000</td>\n",
       "      <td>2.689600e+03</td>\n",
       "      <td>352.500000</td>\n",
       "    </tr>\n",
       "    <tr>\n",
       "      <th>50%</th>\n",
       "      <td>2010.000000</td>\n",
       "      <td>5.000000e+10</td>\n",
       "      <td>9.000000</td>\n",
       "      <td>8.000000</td>\n",
       "      <td>1.334511e+04</td>\n",
       "      <td>1537.775000</td>\n",
       "      <td>1.125000e+03</td>\n",
       "      <td>1.350000e+03</td>\n",
       "      <td>0.000000e+00</td>\n",
       "      <td>1.121600e+03</td>\n",
       "      <td>0.000000e+00</td>\n",
       "      <td>20.000000</td>\n",
       "      <td>18.000000</td>\n",
       "      <td>1.226735e+04</td>\n",
       "      <td>711.365000</td>\n",
       "    </tr>\n",
       "    <tr>\n",
       "      <th>75%</th>\n",
       "      <td>2010.000000</td>\n",
       "      <td>1.900000e+11</td>\n",
       "      <td>23.000000</td>\n",
       "      <td>21.000000</td>\n",
       "      <td>1.046682e+05</td>\n",
       "      <td>4666.247500</td>\n",
       "      <td>6.196375e+03</td>\n",
       "      <td>1.574625e+04</td>\n",
       "      <td>1.725875e+04</td>\n",
       "      <td>9.600000e+03</td>\n",
       "      <td>0.000000e+00</td>\n",
       "      <td>80.000000</td>\n",
       "      <td>68.000000</td>\n",
       "      <td>9.633950e+04</td>\n",
       "      <td>1399.812500</td>\n",
       "    </tr>\n",
       "    <tr>\n",
       "      <th>max</th>\n",
       "      <td>2010.000000</td>\n",
       "      <td>2.700000e+11</td>\n",
       "      <td>6997.000000</td>\n",
       "      <td>5800.000000</td>\n",
       "      <td>5.690642e+06</td>\n",
       "      <td>500180.000000</td>\n",
       "      <td>3.664205e+06</td>\n",
       "      <td>1.403049e+06</td>\n",
       "      <td>3.178226e+06</td>\n",
       "      <td>5.525600e+06</td>\n",
       "      <td>2.745700e+06</td>\n",
       "      <td>9932.000000</td>\n",
       "      <td>8359.000000</td>\n",
       "      <td>4.989491e+06</td>\n",
       "      <td>500177.000000</td>\n",
       "    </tr>\n",
       "  </tbody>\n",
       "</table>\n",
       "</div>"
      ],
      "text/plain": [
       "               ano  sequencial_candidato  quantidade_doacoes  \\\n",
       "count  7622.000000          7.622000e+03         7622.000000   \n",
       "mean   2008.120703          9.039623e+10           27.673839   \n",
       "std       1.996485          9.893847e+10          116.511888   \n",
       "min    2006.000000          1.000100e+04            1.000000   \n",
       "25%    2006.000000          1.055500e+04            4.000000   \n",
       "50%    2010.000000          5.000000e+10            9.000000   \n",
       "75%    2010.000000          1.900000e+11           23.000000   \n",
       "max    2010.000000          2.700000e+11         6997.000000   \n",
       "\n",
       "       quantidade_doadores  total_receita  media_receita  \\\n",
       "count          7622.000000   7.622000e+03    7622.000000   \n",
       "mean             25.239963   1.732199e+05    5456.131027   \n",
       "std             101.804938   4.444187e+05   14003.313610   \n",
       "min               1.000000   0.000000e+00       0.000000   \n",
       "25%               3.000000   2.829208e+03     625.000000   \n",
       "50%               8.000000   1.334511e+04    1537.775000   \n",
       "75%              21.000000   1.046682e+05    4666.247500   \n",
       "max            5800.000000   5.690642e+06  500180.000000   \n",
       "\n",
       "       recursos_de_outros_candidatos.comites  recursos_de_pessoas_fisicas  \\\n",
       "count                           7.622000e+03                 7.622000e+03   \n",
       "mean                            1.965750e+04                 2.315820e+04   \n",
       "std                             1.041636e+05                 6.689215e+04   \n",
       "min                             0.000000e+00                 0.000000e+00   \n",
       "25%                             0.000000e+00                 0.000000e+00   \n",
       "50%                             1.125000e+03                 1.350000e+03   \n",
       "75%                             6.196375e+03                 1.574625e+04   \n",
       "max                             3.664205e+06                 1.403049e+06   \n",
       "\n",
       "       recursos_de_pessoas_juridicas  recursos_proprios  \\\n",
       "count                   7.622000e+03       7.622000e+03   \n",
       "mean                    7.921689e+04       2.577600e+04   \n",
       "std                     2.514138e+05       1.495312e+05   \n",
       "min                     0.000000e+00       0.000000e+00   \n",
       "25%                     0.000000e+00       0.000000e+00   \n",
       "50%                     0.000000e+00       1.121600e+03   \n",
       "75%                     1.725875e+04       9.600000e+03   \n",
       "max                     3.178226e+06       5.525600e+06   \n",
       "\n",
       "       recursos_de_partido_politico  quantidade_despesas  \\\n",
       "count                  7.622000e+03          7622.000000   \n",
       "mean                   2.541136e+04           130.485174   \n",
       "std                    1.308613e+05           411.039689   \n",
       "min                    0.000000e+00             1.000000   \n",
       "25%                    0.000000e+00             6.000000   \n",
       "50%                    0.000000e+00            20.000000   \n",
       "75%                    0.000000e+00            80.000000   \n",
       "max                    2.745700e+06          9932.000000   \n",
       "\n",
       "       quantidade_fornecedores  total_despesa  media_despesa  \n",
       "count              7622.000000   7.622000e+03    7622.000000  \n",
       "mean                107.849777   1.554507e+05    1346.643975  \n",
       "std                 333.905884   3.901120e+05    6164.552399  \n",
       "min                   1.000000   0.000000e+00       0.000000  \n",
       "25%                   5.000000   2.689600e+03     352.500000  \n",
       "50%                  18.000000   1.226735e+04     711.365000  \n",
       "75%                  68.000000   9.633950e+04    1399.812500  \n",
       "max                8359.000000   4.989491e+06  500177.000000  "
      ]
     },
     "execution_count": 156,
     "metadata": {},
     "output_type": "execute_result"
    }
   ],
   "source": [
    "train.describe()"
   ]
  },
  {
   "cell_type": "markdown",
   "metadata": {},
   "source": [
    "Ainda podemos ver que o conjunto de dados conta com $7622$ entradas, mas algumas colunas apresentam valores não informados:"
   ]
  },
  {
   "cell_type": "code",
   "execution_count": 157,
   "metadata": {
    "scrolled": false
   },
   "outputs": [
    {
     "data": {
      "text/plain": [
       "ano                                      7622\n",
       "sequencial_candidato                     7622\n",
       "nome                                     7622\n",
       "uf                                       7622\n",
       "partido                                  7622\n",
       "quantidade_doacoes                       7622\n",
       "quantidade_doadores                      7622\n",
       "total_receita                            7622\n",
       "media_receita                            7622\n",
       "recursos_de_outros_candidatos.comites    7622\n",
       "recursos_de_pessoas_fisicas              7622\n",
       "recursos_de_pessoas_juridicas            7622\n",
       "recursos_proprios                        7622\n",
       "recursos_de_partido_politico             7622\n",
       "quantidade_despesas                      7622\n",
       "quantidade_fornecedores                  7622\n",
       "total_despesa                            7622\n",
       "media_despesa                            7622\n",
       "cargo                                    7622\n",
       "sexo                                     7622\n",
       "grau                                     7622\n",
       "estado_civil                             7622\n",
       "ocupacao                                 7622\n",
       "situacao                                 7622\n",
       "dtype: int64"
      ]
     },
     "execution_count": 157,
     "metadata": {},
     "output_type": "execute_result"
    }
   ],
   "source": [
    "train.count()"
   ]
  },
  {
   "cell_type": "markdown",
   "metadata": {},
   "source": [
    "### 2. Análise de balanceamento das classes\n",
    "\n",
    "Após conhecer os dados, queremos conhecer as variáveis que apresentam algum tipo de viés e realizar as devidas transformações, preencher valores não informados que sejam de interesse e retirar dados que não ajudem nas nossas predições. \n",
    "\n",
    "#### 2.1. Lidando com valores não informados\n",
    "\n",
    "Inicialmente, checamos se existem dados faltando no conjunto de treino, e verificamos que todas as entradas possuem todos os atributos preenchidos:"
   ]
  },
  {
   "cell_type": "code",
   "execution_count": 158,
   "metadata": {
    "scrolled": false
   },
   "outputs": [
    {
     "data": {
      "text/plain": [
       "ano                                      0\n",
       "sequencial_candidato                     0\n",
       "nome                                     0\n",
       "uf                                       0\n",
       "partido                                  0\n",
       "quantidade_doacoes                       0\n",
       "quantidade_doadores                      0\n",
       "total_receita                            0\n",
       "media_receita                            0\n",
       "recursos_de_outros_candidatos.comites    0\n",
       "recursos_de_pessoas_fisicas              0\n",
       "recursos_de_pessoas_juridicas            0\n",
       "recursos_proprios                        0\n",
       "recursos_de_partido_politico             0\n",
       "quantidade_despesas                      0\n",
       "quantidade_fornecedores                  0\n",
       "total_despesa                            0\n",
       "media_despesa                            0\n",
       "cargo                                    0\n",
       "sexo                                     0\n",
       "grau                                     0\n",
       "estado_civil                             0\n",
       "ocupacao                                 0\n",
       "situacao                                 0\n",
       "dtype: int64"
      ]
     },
     "execution_count": 158,
     "metadata": {},
     "output_type": "execute_result"
    }
   ],
   "source": [
    "train.isnull().sum()"
   ]
  },
  {
   "cell_type": "markdown",
   "metadata": {},
   "source": [
    "#### 2.2. Balanceamento de classes\n",
    "\n",
    "Queremos ver o balanceamento entre as classes definidas pela variável ```situacao```, que indica se o candidato foi eleito ou não nos anos de 2006 e 2010. Para isso, vamos ver quantas entradas constam como ```ELEITO``` e ```NAO_ELEITO```:"
   ]
  },
  {
   "cell_type": "code",
   "execution_count": 159,
   "metadata": {},
   "outputs": [
    {
     "data": {
      "text/plain": [
       "nao_eleito    6596\n",
       "eleito        1026\n",
       "Name: situacao, dtype: int64"
      ]
     },
     "execution_count": 159,
     "metadata": {},
     "output_type": "execute_result"
    }
   ],
   "source": [
    "train[\"situacao\"].value_counts()"
   ]
  },
  {
   "cell_type": "markdown",
   "metadata": {},
   "source": [
    "O que em proporção seria:"
   ]
  },
  {
   "cell_type": "code",
   "execution_count": 160,
   "metadata": {},
   "outputs": [
    {
     "data": {
      "text/plain": [
       "nao_eleito    0.86539\n",
       "eleito        0.13461\n",
       "Name: situacao, dtype: float64"
      ]
     },
     "execution_count": 160,
     "metadata": {},
     "output_type": "execute_result"
    }
   ],
   "source": [
    "train[\"situacao\"].value_counts(normalize = True)"
   ]
  },
  {
   "cell_type": "markdown",
   "metadata": {},
   "source": [
    "Ou seja, aproximadamente ```86%``` das entradas constam como não eleitos, e ```13%``` eleitos. Em proporção, para cada candidato marcado como eleito, aproximadamente 7 são nao_eleitos. Claramente vemos que há um desbalanceamento entre as classes. Isso pode causar efeitos colaterais na predição como decisões enviesadas, overfitting, e de maneira mais prática, pode significar que o classificador vai acertar mais para o lado com maior numero de ocorrências, o que no nosso caso seria refletido em um número maior de acertos sobre quem não vai se eleger do que sobre quem de fato seria eleito. \n",
    "\n",
    "Para resolver esse problema podemos fazer uso de validação cruzada, utilização de parâmetros que possam ser tunados nos modelos, bem como técnicas de *downsampling*, significando uma diminuição da amostragem da classe majoritária, ou *upsampling*, o aumento da amostragem da classe minoritária."
   ]
  },
  {
   "cell_type": "markdown",
   "metadata": {},
   "source": [
    "#### 2.3. Tratando variáveis\n",
    "\n",
    "Vamos começar eliminando variáveis que não queremos considerar no treinamento do modelo. Por exemplo, o nome do candidato não deve influenciar sua eleição, seu número, etc. Escolhemos eliminar as que seguem:"
   ]
  },
  {
   "cell_type": "code",
   "execution_count": 161,
   "metadata": {},
   "outputs": [],
   "source": [
    "train.drop(['nome'], axis=1, inplace=True)\n",
    "train.drop(['uf'], axis=1, inplace=True)\n",
    "train.drop(['partido'], axis=1, inplace=True)\n",
    "train.drop(['cargo'], axis=1, inplace=True)\n",
    "train.drop(['grau'], axis=1, inplace=True)\n",
    "train.drop(['estado_civil'], axis=1, inplace=True)\n",
    "train.drop(['sequencial_candidato'], axis=1, inplace=True)\n",
    "train.drop(['ano'], axis=1, inplace=True)"
   ]
  },
  {
   "cell_type": "markdown",
   "metadata": {},
   "source": [
    "Agora vamos transformar variáveis categóricas em binários, especialmente a variável de interesse, ```situacao```, ```sexo```, e ```cargo```, que consideramos poder influenciar a eleição ou não de um candidato:"
   ]
  },
  {
   "cell_type": "code",
   "execution_count": 162,
   "metadata": {},
   "outputs": [
    {
     "data": {
      "text/html": [
       "<div>\n",
       "<style scoped>\n",
       "    .dataframe tbody tr th:only-of-type {\n",
       "        vertical-align: middle;\n",
       "    }\n",
       "\n",
       "    .dataframe tbody tr th {\n",
       "        vertical-align: top;\n",
       "    }\n",
       "\n",
       "    .dataframe thead th {\n",
       "        text-align: right;\n",
       "    }\n",
       "</style>\n",
       "<table border=\"1\" class=\"dataframe\">\n",
       "  <thead>\n",
       "    <tr style=\"text-align: right;\">\n",
       "      <th></th>\n",
       "      <th>quantidade_doacoes</th>\n",
       "      <th>quantidade_doadores</th>\n",
       "      <th>total_receita</th>\n",
       "      <th>media_receita</th>\n",
       "      <th>recursos_de_outros_candidatos.comites</th>\n",
       "      <th>recursos_de_pessoas_fisicas</th>\n",
       "      <th>recursos_de_pessoas_juridicas</th>\n",
       "      <th>recursos_proprios</th>\n",
       "      <th>recursos_de_partido_politico</th>\n",
       "      <th>quantidade_despesas</th>\n",
       "      <th>...</th>\n",
       "      <th>ocupacao_TÉCNICO EM EDIFICAÇÕES</th>\n",
       "      <th>ocupacao_TÉCNICO EM INFORMÁTICA</th>\n",
       "      <th>ocupacao_VENDEDOR DE COMÉRCIO VAREJISTA E ATACADISTA</th>\n",
       "      <th>ocupacao_VENDEDOR PRACISTA, REPRESENTANTE, CAIXEIRO-VIAJANTE E ASSEMELHADOS</th>\n",
       "      <th>ocupacao_VEREADOR</th>\n",
       "      <th>ocupacao_VETERINÁRIO</th>\n",
       "      <th>ocupacao_VIGILANTE</th>\n",
       "      <th>ocupacao_ZOOTECNISTA</th>\n",
       "      <th>situacao_eleito</th>\n",
       "      <th>situacao_nao_eleito</th>\n",
       "    </tr>\n",
       "  </thead>\n",
       "  <tbody>\n",
       "    <tr>\n",
       "      <th>count</th>\n",
       "      <td>7622.000000</td>\n",
       "      <td>7622.000000</td>\n",
       "      <td>7.622000e+03</td>\n",
       "      <td>7622.000000</td>\n",
       "      <td>7.622000e+03</td>\n",
       "      <td>7.622000e+03</td>\n",
       "      <td>7.622000e+03</td>\n",
       "      <td>7.622000e+03</td>\n",
       "      <td>7.622000e+03</td>\n",
       "      <td>7622.000000</td>\n",
       "      <td>...</td>\n",
       "      <td>7622.000000</td>\n",
       "      <td>7622.000000</td>\n",
       "      <td>7622.000000</td>\n",
       "      <td>7622.000000</td>\n",
       "      <td>7622.000000</td>\n",
       "      <td>7622.000000</td>\n",
       "      <td>7622.000000</td>\n",
       "      <td>7622.000000</td>\n",
       "      <td>7622.000000</td>\n",
       "      <td>7622.000000</td>\n",
       "    </tr>\n",
       "    <tr>\n",
       "      <th>mean</th>\n",
       "      <td>27.673839</td>\n",
       "      <td>25.239963</td>\n",
       "      <td>1.732199e+05</td>\n",
       "      <td>5456.131027</td>\n",
       "      <td>1.965750e+04</td>\n",
       "      <td>2.315820e+04</td>\n",
       "      <td>7.921689e+04</td>\n",
       "      <td>2.577600e+04</td>\n",
       "      <td>2.541136e+04</td>\n",
       "      <td>130.485174</td>\n",
       "      <td>...</td>\n",
       "      <td>0.000131</td>\n",
       "      <td>0.000918</td>\n",
       "      <td>0.003149</td>\n",
       "      <td>0.004198</td>\n",
       "      <td>0.043165</td>\n",
       "      <td>0.002230</td>\n",
       "      <td>0.002755</td>\n",
       "      <td>0.000131</td>\n",
       "      <td>0.134610</td>\n",
       "      <td>0.865390</td>\n",
       "    </tr>\n",
       "    <tr>\n",
       "      <th>std</th>\n",
       "      <td>116.511888</td>\n",
       "      <td>101.804938</td>\n",
       "      <td>4.444187e+05</td>\n",
       "      <td>14003.313610</td>\n",
       "      <td>1.041636e+05</td>\n",
       "      <td>6.689215e+04</td>\n",
       "      <td>2.514138e+05</td>\n",
       "      <td>1.495312e+05</td>\n",
       "      <td>1.308613e+05</td>\n",
       "      <td>411.039689</td>\n",
       "      <td>...</td>\n",
       "      <td>0.011454</td>\n",
       "      <td>0.030293</td>\n",
       "      <td>0.056029</td>\n",
       "      <td>0.064663</td>\n",
       "      <td>0.203241</td>\n",
       "      <td>0.047177</td>\n",
       "      <td>0.052421</td>\n",
       "      <td>0.011454</td>\n",
       "      <td>0.341329</td>\n",
       "      <td>0.341329</td>\n",
       "    </tr>\n",
       "    <tr>\n",
       "      <th>min</th>\n",
       "      <td>1.000000</td>\n",
       "      <td>1.000000</td>\n",
       "      <td>0.000000e+00</td>\n",
       "      <td>0.000000</td>\n",
       "      <td>0.000000e+00</td>\n",
       "      <td>0.000000e+00</td>\n",
       "      <td>0.000000e+00</td>\n",
       "      <td>0.000000e+00</td>\n",
       "      <td>0.000000e+00</td>\n",
       "      <td>1.000000</td>\n",
       "      <td>...</td>\n",
       "      <td>0.000000</td>\n",
       "      <td>0.000000</td>\n",
       "      <td>0.000000</td>\n",
       "      <td>0.000000</td>\n",
       "      <td>0.000000</td>\n",
       "      <td>0.000000</td>\n",
       "      <td>0.000000</td>\n",
       "      <td>0.000000</td>\n",
       "      <td>0.000000</td>\n",
       "      <td>0.000000</td>\n",
       "    </tr>\n",
       "    <tr>\n",
       "      <th>25%</th>\n",
       "      <td>4.000000</td>\n",
       "      <td>3.000000</td>\n",
       "      <td>2.829208e+03</td>\n",
       "      <td>625.000000</td>\n",
       "      <td>0.000000e+00</td>\n",
       "      <td>0.000000e+00</td>\n",
       "      <td>0.000000e+00</td>\n",
       "      <td>0.000000e+00</td>\n",
       "      <td>0.000000e+00</td>\n",
       "      <td>6.000000</td>\n",
       "      <td>...</td>\n",
       "      <td>0.000000</td>\n",
       "      <td>0.000000</td>\n",
       "      <td>0.000000</td>\n",
       "      <td>0.000000</td>\n",
       "      <td>0.000000</td>\n",
       "      <td>0.000000</td>\n",
       "      <td>0.000000</td>\n",
       "      <td>0.000000</td>\n",
       "      <td>0.000000</td>\n",
       "      <td>1.000000</td>\n",
       "    </tr>\n",
       "    <tr>\n",
       "      <th>50%</th>\n",
       "      <td>9.000000</td>\n",
       "      <td>8.000000</td>\n",
       "      <td>1.334511e+04</td>\n",
       "      <td>1537.775000</td>\n",
       "      <td>1.125000e+03</td>\n",
       "      <td>1.350000e+03</td>\n",
       "      <td>0.000000e+00</td>\n",
       "      <td>1.121600e+03</td>\n",
       "      <td>0.000000e+00</td>\n",
       "      <td>20.000000</td>\n",
       "      <td>...</td>\n",
       "      <td>0.000000</td>\n",
       "      <td>0.000000</td>\n",
       "      <td>0.000000</td>\n",
       "      <td>0.000000</td>\n",
       "      <td>0.000000</td>\n",
       "      <td>0.000000</td>\n",
       "      <td>0.000000</td>\n",
       "      <td>0.000000</td>\n",
       "      <td>0.000000</td>\n",
       "      <td>1.000000</td>\n",
       "    </tr>\n",
       "    <tr>\n",
       "      <th>75%</th>\n",
       "      <td>23.000000</td>\n",
       "      <td>21.000000</td>\n",
       "      <td>1.046682e+05</td>\n",
       "      <td>4666.247500</td>\n",
       "      <td>6.196375e+03</td>\n",
       "      <td>1.574625e+04</td>\n",
       "      <td>1.725875e+04</td>\n",
       "      <td>9.600000e+03</td>\n",
       "      <td>0.000000e+00</td>\n",
       "      <td>80.000000</td>\n",
       "      <td>...</td>\n",
       "      <td>0.000000</td>\n",
       "      <td>0.000000</td>\n",
       "      <td>0.000000</td>\n",
       "      <td>0.000000</td>\n",
       "      <td>0.000000</td>\n",
       "      <td>0.000000</td>\n",
       "      <td>0.000000</td>\n",
       "      <td>0.000000</td>\n",
       "      <td>0.000000</td>\n",
       "      <td>1.000000</td>\n",
       "    </tr>\n",
       "    <tr>\n",
       "      <th>max</th>\n",
       "      <td>6997.000000</td>\n",
       "      <td>5800.000000</td>\n",
       "      <td>5.690642e+06</td>\n",
       "      <td>500180.000000</td>\n",
       "      <td>3.664205e+06</td>\n",
       "      <td>1.403049e+06</td>\n",
       "      <td>3.178226e+06</td>\n",
       "      <td>5.525600e+06</td>\n",
       "      <td>2.745700e+06</td>\n",
       "      <td>9932.000000</td>\n",
       "      <td>...</td>\n",
       "      <td>1.000000</td>\n",
       "      <td>1.000000</td>\n",
       "      <td>1.000000</td>\n",
       "      <td>1.000000</td>\n",
       "      <td>1.000000</td>\n",
       "      <td>1.000000</td>\n",
       "      <td>1.000000</td>\n",
       "      <td>1.000000</td>\n",
       "      <td>1.000000</td>\n",
       "      <td>1.000000</td>\n",
       "    </tr>\n",
       "  </tbody>\n",
       "</table>\n",
       "<p>8 rows × 193 columns</p>\n",
       "</div>"
      ],
      "text/plain": [
       "       quantidade_doacoes  quantidade_doadores  total_receita  media_receita  \\\n",
       "count         7622.000000          7622.000000   7.622000e+03    7622.000000   \n",
       "mean            27.673839            25.239963   1.732199e+05    5456.131027   \n",
       "std            116.511888           101.804938   4.444187e+05   14003.313610   \n",
       "min              1.000000             1.000000   0.000000e+00       0.000000   \n",
       "25%              4.000000             3.000000   2.829208e+03     625.000000   \n",
       "50%              9.000000             8.000000   1.334511e+04    1537.775000   \n",
       "75%             23.000000            21.000000   1.046682e+05    4666.247500   \n",
       "max           6997.000000          5800.000000   5.690642e+06  500180.000000   \n",
       "\n",
       "       recursos_de_outros_candidatos.comites  recursos_de_pessoas_fisicas  \\\n",
       "count                           7.622000e+03                 7.622000e+03   \n",
       "mean                            1.965750e+04                 2.315820e+04   \n",
       "std                             1.041636e+05                 6.689215e+04   \n",
       "min                             0.000000e+00                 0.000000e+00   \n",
       "25%                             0.000000e+00                 0.000000e+00   \n",
       "50%                             1.125000e+03                 1.350000e+03   \n",
       "75%                             6.196375e+03                 1.574625e+04   \n",
       "max                             3.664205e+06                 1.403049e+06   \n",
       "\n",
       "       recursos_de_pessoas_juridicas  recursos_proprios  \\\n",
       "count                   7.622000e+03       7.622000e+03   \n",
       "mean                    7.921689e+04       2.577600e+04   \n",
       "std                     2.514138e+05       1.495312e+05   \n",
       "min                     0.000000e+00       0.000000e+00   \n",
       "25%                     0.000000e+00       0.000000e+00   \n",
       "50%                     0.000000e+00       1.121600e+03   \n",
       "75%                     1.725875e+04       9.600000e+03   \n",
       "max                     3.178226e+06       5.525600e+06   \n",
       "\n",
       "       recursos_de_partido_politico  quantidade_despesas         ...           \\\n",
       "count                  7.622000e+03          7622.000000         ...            \n",
       "mean                   2.541136e+04           130.485174         ...            \n",
       "std                    1.308613e+05           411.039689         ...            \n",
       "min                    0.000000e+00             1.000000         ...            \n",
       "25%                    0.000000e+00             6.000000         ...            \n",
       "50%                    0.000000e+00            20.000000         ...            \n",
       "75%                    0.000000e+00            80.000000         ...            \n",
       "max                    2.745700e+06          9932.000000         ...            \n",
       "\n",
       "       ocupacao_TÉCNICO EM EDIFICAÇÕES  ocupacao_TÉCNICO EM INFORMÁTICA  \\\n",
       "count                      7622.000000                      7622.000000   \n",
       "mean                          0.000131                         0.000918   \n",
       "std                           0.011454                         0.030293   \n",
       "min                           0.000000                         0.000000   \n",
       "25%                           0.000000                         0.000000   \n",
       "50%                           0.000000                         0.000000   \n",
       "75%                           0.000000                         0.000000   \n",
       "max                           1.000000                         1.000000   \n",
       "\n",
       "       ocupacao_VENDEDOR DE COMÉRCIO VAREJISTA E ATACADISTA  \\\n",
       "count                                        7622.000000      \n",
       "mean                                            0.003149      \n",
       "std                                             0.056029      \n",
       "min                                             0.000000      \n",
       "25%                                             0.000000      \n",
       "50%                                             0.000000      \n",
       "75%                                             0.000000      \n",
       "max                                             1.000000      \n",
       "\n",
       "       ocupacao_VENDEDOR PRACISTA, REPRESENTANTE, CAIXEIRO-VIAJANTE E ASSEMELHADOS  \\\n",
       "count                                        7622.000000                             \n",
       "mean                                            0.004198                             \n",
       "std                                             0.064663                             \n",
       "min                                             0.000000                             \n",
       "25%                                             0.000000                             \n",
       "50%                                             0.000000                             \n",
       "75%                                             0.000000                             \n",
       "max                                             1.000000                             \n",
       "\n",
       "       ocupacao_VEREADOR  ocupacao_VETERINÁRIO  ocupacao_VIGILANTE  \\\n",
       "count        7622.000000           7622.000000         7622.000000   \n",
       "mean            0.043165              0.002230            0.002755   \n",
       "std             0.203241              0.047177            0.052421   \n",
       "min             0.000000              0.000000            0.000000   \n",
       "25%             0.000000              0.000000            0.000000   \n",
       "50%             0.000000              0.000000            0.000000   \n",
       "75%             0.000000              0.000000            0.000000   \n",
       "max             1.000000              1.000000            1.000000   \n",
       "\n",
       "       ocupacao_ZOOTECNISTA  situacao_eleito  situacao_nao_eleito  \n",
       "count           7622.000000      7622.000000          7622.000000  \n",
       "mean               0.000131         0.134610             0.865390  \n",
       "std                0.011454         0.341329             0.341329  \n",
       "min                0.000000         0.000000             0.000000  \n",
       "25%                0.000000         0.000000             1.000000  \n",
       "50%                0.000000         0.000000             1.000000  \n",
       "75%                0.000000         0.000000             1.000000  \n",
       "max                1.000000         1.000000             1.000000  \n",
       "\n",
       "[8 rows x 193 columns]"
      ]
     },
     "execution_count": 162,
     "metadata": {},
     "output_type": "execute_result"
    }
   ],
   "source": [
    "train = pd.get_dummies(train)\n",
    "train.describe()"
   ]
  },
  {
   "cell_type": "markdown",
   "metadata": {},
   "source": [
    "Das variáveis resultantes nessa transformação, vamos considerar apenas as seguintes:"
   ]
  },
  {
   "cell_type": "code",
   "execution_count": 163,
   "metadata": {},
   "outputs": [
    {
     "data": {
      "text/html": [
       "<div>\n",
       "<style scoped>\n",
       "    .dataframe tbody tr th:only-of-type {\n",
       "        vertical-align: middle;\n",
       "    }\n",
       "\n",
       "    .dataframe tbody tr th {\n",
       "        vertical-align: top;\n",
       "    }\n",
       "\n",
       "    .dataframe thead th {\n",
       "        text-align: right;\n",
       "    }\n",
       "</style>\n",
       "<table border=\"1\" class=\"dataframe\">\n",
       "  <thead>\n",
       "    <tr style=\"text-align: right;\">\n",
       "      <th></th>\n",
       "      <th>quantidade_doacoes</th>\n",
       "      <th>quantidade_doadores</th>\n",
       "      <th>total_receita</th>\n",
       "      <th>media_receita</th>\n",
       "      <th>quantidade_despesas</th>\n",
       "      <th>total_despesa</th>\n",
       "      <th>media_despesa</th>\n",
       "      <th>sexo_MASCULINO</th>\n",
       "      <th>ocupacao_VEREADOR</th>\n",
       "      <th>situacao_eleito</th>\n",
       "    </tr>\n",
       "  </thead>\n",
       "  <tbody>\n",
       "    <tr>\n",
       "      <th>count</th>\n",
       "      <td>7622.000000</td>\n",
       "      <td>7622.000000</td>\n",
       "      <td>7.622000e+03</td>\n",
       "      <td>7622.000000</td>\n",
       "      <td>7622.000000</td>\n",
       "      <td>7.622000e+03</td>\n",
       "      <td>7622.000000</td>\n",
       "      <td>7622.000000</td>\n",
       "      <td>7622.000000</td>\n",
       "      <td>7622.000000</td>\n",
       "    </tr>\n",
       "    <tr>\n",
       "      <th>mean</th>\n",
       "      <td>27.673839</td>\n",
       "      <td>25.239963</td>\n",
       "      <td>1.732199e+05</td>\n",
       "      <td>5456.131027</td>\n",
       "      <td>130.485174</td>\n",
       "      <td>1.554507e+05</td>\n",
       "      <td>1346.643975</td>\n",
       "      <td>0.858567</td>\n",
       "      <td>0.043165</td>\n",
       "      <td>0.134610</td>\n",
       "    </tr>\n",
       "    <tr>\n",
       "      <th>std</th>\n",
       "      <td>116.511888</td>\n",
       "      <td>101.804938</td>\n",
       "      <td>4.444187e+05</td>\n",
       "      <td>14003.313610</td>\n",
       "      <td>411.039689</td>\n",
       "      <td>3.901120e+05</td>\n",
       "      <td>6164.552399</td>\n",
       "      <td>0.348490</td>\n",
       "      <td>0.203241</td>\n",
       "      <td>0.341329</td>\n",
       "    </tr>\n",
       "    <tr>\n",
       "      <th>min</th>\n",
       "      <td>1.000000</td>\n",
       "      <td>1.000000</td>\n",
       "      <td>0.000000e+00</td>\n",
       "      <td>0.000000</td>\n",
       "      <td>1.000000</td>\n",
       "      <td>0.000000e+00</td>\n",
       "      <td>0.000000</td>\n",
       "      <td>0.000000</td>\n",
       "      <td>0.000000</td>\n",
       "      <td>0.000000</td>\n",
       "    </tr>\n",
       "    <tr>\n",
       "      <th>25%</th>\n",
       "      <td>4.000000</td>\n",
       "      <td>3.000000</td>\n",
       "      <td>2.829208e+03</td>\n",
       "      <td>625.000000</td>\n",
       "      <td>6.000000</td>\n",
       "      <td>2.689600e+03</td>\n",
       "      <td>352.500000</td>\n",
       "      <td>1.000000</td>\n",
       "      <td>0.000000</td>\n",
       "      <td>0.000000</td>\n",
       "    </tr>\n",
       "    <tr>\n",
       "      <th>50%</th>\n",
       "      <td>9.000000</td>\n",
       "      <td>8.000000</td>\n",
       "      <td>1.334511e+04</td>\n",
       "      <td>1537.775000</td>\n",
       "      <td>20.000000</td>\n",
       "      <td>1.226735e+04</td>\n",
       "      <td>711.365000</td>\n",
       "      <td>1.000000</td>\n",
       "      <td>0.000000</td>\n",
       "      <td>0.000000</td>\n",
       "    </tr>\n",
       "    <tr>\n",
       "      <th>75%</th>\n",
       "      <td>23.000000</td>\n",
       "      <td>21.000000</td>\n",
       "      <td>1.046682e+05</td>\n",
       "      <td>4666.247500</td>\n",
       "      <td>80.000000</td>\n",
       "      <td>9.633950e+04</td>\n",
       "      <td>1399.812500</td>\n",
       "      <td>1.000000</td>\n",
       "      <td>0.000000</td>\n",
       "      <td>0.000000</td>\n",
       "    </tr>\n",
       "    <tr>\n",
       "      <th>max</th>\n",
       "      <td>6997.000000</td>\n",
       "      <td>5800.000000</td>\n",
       "      <td>5.690642e+06</td>\n",
       "      <td>500180.000000</td>\n",
       "      <td>9932.000000</td>\n",
       "      <td>4.989491e+06</td>\n",
       "      <td>500177.000000</td>\n",
       "      <td>1.000000</td>\n",
       "      <td>1.000000</td>\n",
       "      <td>1.000000</td>\n",
       "    </tr>\n",
       "  </tbody>\n",
       "</table>\n",
       "</div>"
      ],
      "text/plain": [
       "       quantidade_doacoes  quantidade_doadores  total_receita  media_receita  \\\n",
       "count         7622.000000          7622.000000   7.622000e+03    7622.000000   \n",
       "mean            27.673839            25.239963   1.732199e+05    5456.131027   \n",
       "std            116.511888           101.804938   4.444187e+05   14003.313610   \n",
       "min              1.000000             1.000000   0.000000e+00       0.000000   \n",
       "25%              4.000000             3.000000   2.829208e+03     625.000000   \n",
       "50%              9.000000             8.000000   1.334511e+04    1537.775000   \n",
       "75%             23.000000            21.000000   1.046682e+05    4666.247500   \n",
       "max           6997.000000          5800.000000   5.690642e+06  500180.000000   \n",
       "\n",
       "       quantidade_despesas  total_despesa  media_despesa  sexo_MASCULINO  \\\n",
       "count          7622.000000   7.622000e+03    7622.000000     7622.000000   \n",
       "mean            130.485174   1.554507e+05    1346.643975        0.858567   \n",
       "std             411.039689   3.901120e+05    6164.552399        0.348490   \n",
       "min               1.000000   0.000000e+00       0.000000        0.000000   \n",
       "25%               6.000000   2.689600e+03     352.500000        1.000000   \n",
       "50%              20.000000   1.226735e+04     711.365000        1.000000   \n",
       "75%              80.000000   9.633950e+04    1399.812500        1.000000   \n",
       "max            9932.000000   4.989491e+06  500177.000000        1.000000   \n",
       "\n",
       "       ocupacao_VEREADOR  situacao_eleito  \n",
       "count        7622.000000      7622.000000  \n",
       "mean            0.043165         0.134610  \n",
       "std             0.203241         0.341329  \n",
       "min             0.000000         0.000000  \n",
       "25%             0.000000         0.000000  \n",
       "50%             0.000000         0.000000  \n",
       "75%             0.000000         0.000000  \n",
       "max             1.000000         1.000000  "
      ]
     },
     "execution_count": 163,
     "metadata": {},
     "output_type": "execute_result"
    }
   ],
   "source": [
    "train_vars = ['quantidade_doacoes', 'quantidade_doadores', 'total_receita', 'media_receita', 'quantidade_despesas', 'total_despesa', 'media_despesa', 'sexo_MASCULINO', 'ocupacao_VEREADOR', 'situacao_eleito']\n",
    "train = train[train_vars]\n",
    "train.describe()"
   ]
  },
  {
   "cell_type": "markdown",
   "metadata": {},
   "source": [
    "#### 2.4. Corrigindo desbalanceamento usando SMOTE\n",
    "\n",
    "Vamos usar uma técnica de *oversampling* chamada SMOTE. Baseado em uma implementação de seu algoritmo, teremos: "
   ]
  },
  {
   "cell_type": "code",
   "execution_count": 164,
   "metadata": {},
   "outputs": [
    {
     "name": "stdout",
     "output_type": "stream",
     "text": [
      "Tamanho do dado oversampled é  9274\n",
      "Número de candidados não eleitos nos dados oversampled:  4637\n",
      "Número de candidatos eleitos:  4637\n",
      "Proporção de candidatos não eleitos no dado oversampled:  0.5\n",
      "Proporção de candidatos eleitos no dado oversampled:  0.5\n"
     ]
    }
   ],
   "source": [
    "X = train.loc[:, train.columns != 'situacao_eleito']\n",
    "y = train.loc[:, train.columns == 'situacao_eleito']\n",
    "\n",
    "from imblearn.over_sampling import SMOTE\n",
    "from sklearn.model_selection import train_test_split\n",
    "\n",
    "os = SMOTE(random_state=0)\n",
    "X_train, X_test, y_train, y_test = train_test_split(X, y, test_size=0.3, random_state=0)\n",
    "columns = X_train.columns\n",
    "\n",
    "os_data_X,os_data_y=os.fit_sample(X_train, y_train)\n",
    "os_data_X = pd.DataFrame(data=os_data_X,columns=columns )\n",
    "os_data_y = pd.DataFrame(data=os_data_y.ravel(),columns=['situacao_eleito'])\n",
    "\n",
    "#checando o novo balanceamento\n",
    "\n",
    "print(\"Tamanho do dado oversampled é \",len(os_data_X))\n",
    "print(\"Número de candidados não eleitos nos dados oversampled: \",len(os_data_y[os_data_y['situacao_eleito']==0]))\n",
    "print(\"Número de candidatos eleitos: \",len(os_data_y[os_data_y['situacao_eleito']==1]))\n",
    "print(\"Proporção de candidatos não eleitos no dado oversampled: \",len(os_data_y[os_data_y['situacao_eleito']==0])/len(os_data_X))\n",
    "print(\"Proporção de candidatos eleitos no dado oversampled: \",len(os_data_y[os_data_y['situacao_eleito']==1])/len(os_data_X))"
   ]
  },
  {
   "cell_type": "markdown",
   "metadata": {},
   "source": [
    "### 3. Treinando modelos\n",
    "\n",
    "Vamos treinar alguns modelos de classificação para predizer quem foi eleito ou não na eleição de 2014. Primeiro definimos uma função que calcule o RMSE para os modelos usando validação cruzada. Essa função será usada para avaliação de cada modelo:"
   ]
  },
  {
   "cell_type": "code",
   "execution_count": 165,
   "metadata": {},
   "outputs": [],
   "source": [
    "def rmse_cv(model, matrix, target):\n",
    "    rmse = np.sqrt(-cross_val_score(model, matrix, target, scoring=\"neg_mean_squared_error\", cv = 5))\n",
    "    return(rmse)"
   ]
  },
  {
   "cell_type": "markdown",
   "metadata": {},
   "source": [
    "#### 3.1. Regressão logística\n",
    "\n",
    "Inicialmente vamos construir o modelo:"
   ]
  },
  {
   "cell_type": "code",
   "execution_count": 166,
   "metadata": {},
   "outputs": [
    {
     "data": {
      "text/plain": [
       "LogisticRegression(C=1.0, class_weight=None, dual=False, fit_intercept=True,\n",
       "          intercept_scaling=1, max_iter=100, multi_class='warn',\n",
       "          n_jobs=None, penalty='l2', random_state=None, solver='lbfgs',\n",
       "          tol=0.0001, verbose=0, warm_start=False)"
      ]
     },
     "execution_count": 166,
     "metadata": {},
     "output_type": "execute_result"
    }
   ],
   "source": [
    "from sklearn.linear_model import LogisticRegression\n",
    "classifier_logistic = LogisticRegression(solver='lbfgs')\n",
    "classifier_logistic.fit(X_train, y_train)"
   ]
  },
  {
   "cell_type": "markdown",
   "metadata": {},
   "source": [
    "Em seguida, calculamos a confusion matrix, que nos diz que temos 1897 + 150 predições corretas, e 178 + 62 predições possivelmente incorretas:"
   ]
  },
  {
   "cell_type": "code",
   "execution_count": 167,
   "metadata": {},
   "outputs": [
    {
     "name": "stdout",
     "output_type": "stream",
     "text": [
      "[[1897   62]\n",
      " [ 178  150]]\n"
     ]
    }
   ],
   "source": [
    "y_pred_logistic = classifier_logistic.predict(X_test)\n",
    "\n",
    "from sklearn.metrics import confusion_matrix\n",
    "\n",
    "confusion_matrix = confusion_matrix(y_test, y_pred_logistic)\n",
    "print(confusion_matrix)"
   ]
  },
  {
   "cell_type": "markdown",
   "metadata": {},
   "source": [
    "A acurácia do classificador pode ser calculada como:"
   ]
  },
  {
   "cell_type": "code",
   "execution_count": 168,
   "metadata": {},
   "outputs": [
    {
     "name": "stdout",
     "output_type": "stream",
     "text": [
      "Acurácia do classificador com regresssão logística é: 0.90\n"
     ]
    }
   ],
   "source": [
    "print('Acurácia do classificador com regresssão logística é: {:.2f}'.format(classifier_logistic.score(X_test, y_test)))"
   ]
  },
  {
   "cell_type": "markdown",
   "metadata": {},
   "source": [
    "E finalmente, considerando ```0 = não_eleito``` e ```1 = eleito```, temos o cálculo de Precision, Recall e AUC-Precision&Recall para o modelo com regressão logística:"
   ]
  },
  {
   "cell_type": "code",
   "execution_count": 169,
   "metadata": {},
   "outputs": [
    {
     "name": "stdout",
     "output_type": "stream",
     "text": [
      "              precision    recall  f1-score   support\n",
      "\n",
      "           0       0.91      0.97      0.94      1959\n",
      "           1       0.71      0.46      0.56       328\n",
      "\n",
      "   micro avg       0.90      0.90      0.90      2287\n",
      "   macro avg       0.81      0.71      0.75      2287\n",
      "weighted avg       0.88      0.90      0.89      2287\n",
      "\n"
     ]
    }
   ],
   "source": [
    "from sklearn.metrics import classification_report\n",
    "\n",
    "print(classification_report(y_test, y_pred_logistic))"
   ]
  },
  {
   "cell_type": "markdown",
   "metadata": {},
   "source": [
    "O modelo apresenta o menor rmse como sendo:"
   ]
  },
  {
   "cell_type": "code",
   "execution_count": 170,
   "metadata": {},
   "outputs": [
    {
     "data": {
      "text/plain": [
       "0.31069652982570584"
      ]
     },
     "execution_count": 170,
     "metadata": {},
     "output_type": "execute_result"
    }
   ],
   "source": [
    "min(rmse_cv(classifier_logistic, X_train, y_train))"
   ]
  },
  {
   "cell_type": "code",
   "execution_count": 171,
   "metadata": {},
   "outputs": [
    {
     "data": {
      "text/plain": [
       "0.299853765528723"
      ]
     },
     "execution_count": 171,
     "metadata": {},
     "output_type": "execute_result"
    }
   ],
   "source": [
    "min(rmse_cv(classifier_logistic, X_test, y_test))"
   ]
  },
  {
   "cell_type": "markdown",
   "metadata": {},
   "source": [
    "#### 3.2. KNN\n",
    "\n",
    "Usando KNN queremos encontrar um valor de K que ache o menor RMSE para as nossas predições. O modelo segue abaixo e retorna o menor RMSE para K variando de $0$ a $100$:"
   ]
  },
  {
   "cell_type": "code",
   "execution_count": 172,
   "metadata": {},
   "outputs": [],
   "source": [
    "from sklearn.neighbors import KNeighborsRegressor\n",
    "from sklearn.model_selection import cross_val_score\n",
    "\n",
    "from math import sqrt\n",
    "\n",
    "def calculate_knn(matrix, target):\n",
    "    rmse_val = [] #to store rmse values for different k\n",
    "    \n",
    "    for K in range(100):\n",
    "        K = K+1\n",
    "        model = KNeighborsRegressor(n_neighbors = K)\n",
    "        model.fit(matrix, target)  #fit the model\n",
    "\n",
    "        errors = rmse_cv(model, matrix, target)\n",
    "        rmse_val.append(errors.mean()) #store rmse values\n",
    "    \n",
    "    print('O menor valor de RMSE é', min(rmse_val), 'para K =', rmse_val.index(min(rmse_val)))"
   ]
  },
  {
   "cell_type": "code",
   "execution_count": 173,
   "metadata": {},
   "outputs": [
    {
     "name": "stdout",
     "output_type": "stream",
     "text": [
      "O menor valor de RMSE é 0.24313784652236548 para K = 79\n"
     ]
    }
   ],
   "source": [
    "calculate_knn(X_train, y_train)"
   ]
  },
  {
   "cell_type": "markdown",
   "metadata": {},
   "source": [
    "Em seguida, usamos esse valor de K para criar o modelo e aplicá-lo:"
   ]
  },
  {
   "cell_type": "code",
   "execution_count": 174,
   "metadata": {},
   "outputs": [
    {
     "data": {
      "text/plain": [
       "KNeighborsRegressor(algorithm='auto', leaf_size=30, metric='minkowski',\n",
       "          metric_params=None, n_jobs=None, n_neighbors=79, p=2,\n",
       "          weights='uniform')"
      ]
     },
     "execution_count": 174,
     "metadata": {},
     "output_type": "execute_result"
    }
   ],
   "source": [
    "classifier_knn = KNeighborsRegressor(n_neighbors = 79)\n",
    "classifier_knn.fit(X_train, y_train)"
   ]
  },
  {
   "cell_type": "markdown",
   "metadata": {},
   "source": [
    "A predição desse modelo gera valores diferentes de 0 e 1, portanto, vamos tratá-lo para considerar valores menores ou iguais a $0.5$ como sendo 0, e os demais 1:"
   ]
  },
  {
   "cell_type": "code",
   "execution_count": 175,
   "metadata": {},
   "outputs": [
    {
     "name": "stdout",
     "output_type": "stream",
     "text": [
      "[[0.25316456]\n",
      " [0.        ]\n",
      " [0.        ]\n",
      " ...\n",
      " [0.67088608]\n",
      " [0.        ]\n",
      " [0.        ]]\n"
     ]
    }
   ],
   "source": [
    "y_pred_knn = classifier_knn.predict(X_test)\n",
    "print(y_pred_knn)"
   ]
  },
  {
   "cell_type": "code",
   "execution_count": 176,
   "metadata": {},
   "outputs": [],
   "source": [
    "y_pred_knn_format = []\n",
    "for i in y_pred_knn:\n",
    "    if i <= 0.5:\n",
    "        y_pred_knn_format.append(0)\n",
    "    else:\n",
    "        y_pred_knn_format.append(1)"
   ]
  },
  {
   "cell_type": "markdown",
   "metadata": {},
   "source": [
    "Isso gera uma matriz de predição como a que segue:"
   ]
  },
  {
   "cell_type": "code",
   "execution_count": 177,
   "metadata": {},
   "outputs": [
    {
     "name": "stdout",
     "output_type": "stream",
     "text": [
      "[[1870   89]\n",
      " [ 117  211]]\n"
     ]
    }
   ],
   "source": [
    "from sklearn.metrics import confusion_matrix\n",
    "\n",
    "confusion_matrix = confusion_matrix(y_test, y_pred_knn_format)\n",
    "print(confusion_matrix)"
   ]
  },
  {
   "cell_type": "markdown",
   "metadata": {},
   "source": [
    "E uma acurácia para o modelo KNN de:"
   ]
  },
  {
   "cell_type": "code",
   "execution_count": 178,
   "metadata": {},
   "outputs": [
    {
     "name": "stdout",
     "output_type": "stream",
     "text": [
      "Acurácia do classificador com KNN é: 0.49\n"
     ]
    }
   ],
   "source": [
    "print('Acurácia do classificador com KNN é: {:.2f}'.format(classifier_knn.score(X_test, y_test)))"
   ]
  },
  {
   "cell_type": "markdown",
   "metadata": {},
   "source": [
    "Por fim, a avaliação do classificador fica como segue:"
   ]
  },
  {
   "cell_type": "code",
   "execution_count": 179,
   "metadata": {},
   "outputs": [
    {
     "name": "stdout",
     "output_type": "stream",
     "text": [
      "              precision    recall  f1-score   support\n",
      "\n",
      "           0       0.94      0.95      0.95      1959\n",
      "           1       0.70      0.64      0.67       328\n",
      "\n",
      "   micro avg       0.91      0.91      0.91      2287\n",
      "   macro avg       0.82      0.80      0.81      2287\n",
      "weighted avg       0.91      0.91      0.91      2287\n",
      "\n"
     ]
    }
   ],
   "source": [
    "from sklearn.metrics import classification_report\n",
    "\n",
    "print(classification_report(y_test, y_pred_knn_format))"
   ]
  },
  {
   "cell_type": "markdown",
   "metadata": {},
   "source": [
    "#### 3.3. Árvore de decisão\n",
    "\n",
    "Vamos gerar predições com duas configurações de árvore de decisão. A primeira, com critério ```gini```, e a segunda com critério ```entropy```:"
   ]
  },
  {
   "cell_type": "code",
   "execution_count": 180,
   "metadata": {},
   "outputs": [
    {
     "data": {
      "text/plain": [
       "DecisionTreeClassifier(class_weight=None, criterion='gini', max_depth=3,\n",
       "            max_features=None, max_leaf_nodes=None,\n",
       "            min_impurity_decrease=0.0, min_impurity_split=None,\n",
       "            min_samples_leaf=5, min_samples_split=2,\n",
       "            min_weight_fraction_leaf=0.0, presort=False, random_state=100,\n",
       "            splitter='best')"
      ]
     },
     "execution_count": 180,
     "metadata": {},
     "output_type": "execute_result"
    }
   ],
   "source": [
    "from sklearn.tree import DecisionTreeClassifier\n",
    "\n",
    "classifier_dt_gini = DecisionTreeClassifier(criterion = \"gini\", random_state = 100, max_depth=3, min_samples_leaf=5)\n",
    "classifier_dt_gini.fit(X_train, y_train)"
   ]
  },
  {
   "cell_type": "code",
   "execution_count": 181,
   "metadata": {},
   "outputs": [
    {
     "data": {
      "text/plain": [
       "DecisionTreeClassifier(class_weight=None, criterion='entropy', max_depth=3,\n",
       "            max_features=None, max_leaf_nodes=None,\n",
       "            min_impurity_decrease=0.0, min_impurity_split=None,\n",
       "            min_samples_leaf=5, min_samples_split=2,\n",
       "            min_weight_fraction_leaf=0.0, presort=False, random_state=100,\n",
       "            splitter='best')"
      ]
     },
     "execution_count": 181,
     "metadata": {},
     "output_type": "execute_result"
    }
   ],
   "source": [
    "classifier_dt_entropy = DecisionTreeClassifier(criterion = \"entropy\", random_state = 100, max_depth=3, min_samples_leaf=5)\n",
    "classifier_dt_entropy.fit(X_train, y_train)"
   ]
  },
  {
   "cell_type": "markdown",
   "metadata": {},
   "source": [
    "Em seguida, calculamos a predição para ```gini```:"
   ]
  },
  {
   "cell_type": "code",
   "execution_count": 182,
   "metadata": {},
   "outputs": [
    {
     "name": "stdout",
     "output_type": "stream",
     "text": [
      "[[1906   53]\n",
      " [ 170  158]]\n"
     ]
    }
   ],
   "source": [
    "y_pred_dt_gini = classifier_dt_gini.predict(X_test)\n",
    "\n",
    "from sklearn.metrics import confusion_matrix\n",
    "\n",
    "confusion_matrix = confusion_matrix(y_test, y_pred_dt_gini)\n",
    "print(confusion_matrix)"
   ]
  },
  {
   "cell_type": "markdown",
   "metadata": {},
   "source": [
    "E para ```entropy```:"
   ]
  },
  {
   "cell_type": "code",
   "execution_count": 183,
   "metadata": {},
   "outputs": [
    {
     "name": "stdout",
     "output_type": "stream",
     "text": [
      "[[1892   67]\n",
      " [ 131  197]]\n"
     ]
    }
   ],
   "source": [
    "y_pred_dt_entropy = classifier_dt_entropy.predict(X_test)\n",
    "\n",
    "from sklearn.metrics import confusion_matrix\n",
    "\n",
    "confusion_matrix = confusion_matrix(y_test, y_pred_dt_entropy)\n",
    "print(confusion_matrix)"
   ]
  },
  {
   "cell_type": "markdown",
   "metadata": {},
   "source": [
    "Para os valores de acurácia, ficamos como segue, o critério ```entropy``` apresentando uma acurácia um pouco maior:"
   ]
  },
  {
   "cell_type": "code",
   "execution_count": 184,
   "metadata": {
    "scrolled": true
   },
   "outputs": [
    {
     "name": "stdout",
     "output_type": "stream",
     "text": [
      "Acurácia do classificador com Árvore de Decisão com critério gini é: 0.90\n"
     ]
    }
   ],
   "source": [
    "print('Acurácia do classificador com Árvore de Decisão com critério gini é: {:.2f}'.format(classifier_dt_gini.score(X_test, y_test)))"
   ]
  },
  {
   "cell_type": "code",
   "execution_count": 185,
   "metadata": {},
   "outputs": [
    {
     "name": "stdout",
     "output_type": "stream",
     "text": [
      "Acurácia do classificador com Árvore de Decisão com critério entropy é: 0.91\n"
     ]
    }
   ],
   "source": [
    "print('Acurácia do classificador com Árvore de Decisão com critério entropy é: {:.2f}'.format(classifier_dt_entropy.score(X_test, y_test)))"
   ]
  },
  {
   "cell_type": "markdown",
   "metadata": {},
   "source": [
    "Podemos ver um report dessa classifcação abaixo, primeiro para ```gini``` e em seguida para ```entropy```:"
   ]
  },
  {
   "cell_type": "code",
   "execution_count": 186,
   "metadata": {},
   "outputs": [
    {
     "name": "stdout",
     "output_type": "stream",
     "text": [
      "              precision    recall  f1-score   support\n",
      "\n",
      "           0       0.92      0.97      0.94      1959\n",
      "           1       0.75      0.48      0.59       328\n",
      "\n",
      "   micro avg       0.90      0.90      0.90      2287\n",
      "   macro avg       0.83      0.73      0.77      2287\n",
      "weighted avg       0.89      0.90      0.89      2287\n",
      "\n"
     ]
    }
   ],
   "source": [
    "from sklearn.metrics import classification_report\n",
    "\n",
    "print(classification_report(y_test, y_pred_dt_gini))"
   ]
  },
  {
   "cell_type": "code",
   "execution_count": 187,
   "metadata": {},
   "outputs": [
    {
     "name": "stdout",
     "output_type": "stream",
     "text": [
      "              precision    recall  f1-score   support\n",
      "\n",
      "           0       0.94      0.97      0.95      1959\n",
      "           1       0.75      0.60      0.67       328\n",
      "\n",
      "   micro avg       0.91      0.91      0.91      2287\n",
      "   macro avg       0.84      0.78      0.81      2287\n",
      "weighted avg       0.91      0.91      0.91      2287\n",
      "\n"
     ]
    }
   ],
   "source": [
    "from sklearn.metrics import classification_report\n",
    "\n",
    "print(classification_report(y_test, y_pred_dt_entropy))"
   ]
  },
  {
   "cell_type": "markdown",
   "metadata": {},
   "source": [
    "E finalmente, os valores de RMSE com validação cruzada para ```gini```:"
   ]
  },
  {
   "cell_type": "code",
   "execution_count": 188,
   "metadata": {},
   "outputs": [
    {
     "data": {
      "text/plain": [
       "0.3029196256855408"
      ]
     },
     "execution_count": 188,
     "metadata": {},
     "output_type": "execute_result"
    }
   ],
   "source": [
    "min(rmse_cv(classifier_dt_gini, X_train, y_train))"
   ]
  },
  {
   "cell_type": "code",
   "execution_count": 189,
   "metadata": {},
   "outputs": [
    {
     "data": {
      "text/plain": [
       "0.2848514540549038"
      ]
     },
     "execution_count": 189,
     "metadata": {},
     "output_type": "execute_result"
    }
   ],
   "source": [
    "min(rmse_cv(classifier_dt_gini, X_test, y_test))"
   ]
  },
  {
   "cell_type": "markdown",
   "metadata": {},
   "source": [
    "E para ```entropy```:"
   ]
  },
  {
   "cell_type": "code",
   "execution_count": 190,
   "metadata": {},
   "outputs": [
    {
     "data": {
      "text/plain": [
       "0.29509092104873924"
      ]
     },
     "execution_count": 190,
     "metadata": {},
     "output_type": "execute_result"
    }
   ],
   "source": [
    "min(rmse_cv(classifier_dt_entropy, X_train, y_train))"
   ]
  },
  {
   "cell_type": "code",
   "execution_count": 191,
   "metadata": {},
   "outputs": [
    {
     "data": {
      "text/plain": [
       "0.2730593406363751"
      ]
     },
     "execution_count": 191,
     "metadata": {},
     "output_type": "execute_result"
    }
   ],
   "source": [
    "min(rmse_cv(classifier_dt_entropy, X_test, y_test))"
   ]
  },
  {
   "cell_type": "markdown",
   "metadata": {},
   "source": [
    "#### 3.4. Adaboost\n",
    "\n",
    "Utilizando agora um modelo Adaboost, temos:"
   ]
  },
  {
   "cell_type": "code",
   "execution_count": 192,
   "metadata": {},
   "outputs": [
    {
     "data": {
      "text/plain": [
       "AdaBoostClassifier(algorithm='SAMME.R', base_estimator=None, learning_rate=1,\n",
       "          n_estimators=50, random_state=0)"
      ]
     },
     "execution_count": 192,
     "metadata": {},
     "output_type": "execute_result"
    }
   ],
   "source": [
    "from sklearn.ensemble import AdaBoostClassifier\n",
    "\n",
    "classifier_adaboost = AdaBoostClassifier(n_estimators=50, learning_rate=1, random_state=0)\n",
    "classifier_adaboost.fit(X_train, y_train)"
   ]
  },
  {
   "cell_type": "markdown",
   "metadata": {},
   "source": [
    "Em seguida calculamos a predição:"
   ]
  },
  {
   "cell_type": "code",
   "execution_count": 193,
   "metadata": {},
   "outputs": [
    {
     "name": "stdout",
     "output_type": "stream",
     "text": [
      "[[1860   99]\n",
      " [ 126  202]]\n"
     ]
    }
   ],
   "source": [
    "y_pred_adaboost = classifier_adaboost.predict(X_test)\n",
    "\n",
    "from sklearn.metrics import confusion_matrix\n",
    "\n",
    "confusion_matrix = confusion_matrix(y_test, y_pred_adaboost)\n",
    "print(confusion_matrix)"
   ]
  },
  {
   "cell_type": "markdown",
   "metadata": {},
   "source": [
    "E sua acurácia:"
   ]
  },
  {
   "cell_type": "code",
   "execution_count": 194,
   "metadata": {},
   "outputs": [
    {
     "name": "stdout",
     "output_type": "stream",
     "text": [
      "Acurácia do classificador com Adaboost é: 0.90\n"
     ]
    }
   ],
   "source": [
    "print('Acurácia do classificador com Adaboost é: {:.2f}'.format(classifier_adaboost.score(X_test, y_test)))"
   ]
  },
  {
   "cell_type": "markdown",
   "metadata": {},
   "source": [
    "Um report da classifcação segue abaixo:"
   ]
  },
  {
   "cell_type": "code",
   "execution_count": 195,
   "metadata": {},
   "outputs": [
    {
     "name": "stdout",
     "output_type": "stream",
     "text": [
      "              precision    recall  f1-score   support\n",
      "\n",
      "           0       0.94      0.95      0.94      1959\n",
      "           1       0.67      0.62      0.64       328\n",
      "\n",
      "   micro avg       0.90      0.90      0.90      2287\n",
      "   macro avg       0.80      0.78      0.79      2287\n",
      "weighted avg       0.90      0.90      0.90      2287\n",
      "\n"
     ]
    }
   ],
   "source": [
    "from sklearn.metrics import classification_report\n",
    "\n",
    "print(classification_report(y_test, y_pred_adaboost))"
   ]
  },
  {
   "cell_type": "markdown",
   "metadata": {},
   "source": [
    "E finalmente o valor do RMSE:"
   ]
  },
  {
   "cell_type": "code",
   "execution_count": 196,
   "metadata": {},
   "outputs": [
    {
     "data": {
      "text/plain": [
       "0.29509092104873924"
      ]
     },
     "execution_count": 196,
     "metadata": {},
     "output_type": "execute_result"
    }
   ],
   "source": [
    "min(rmse_cv(classifier_adaboost, X_train, y_train))"
   ]
  },
  {
   "cell_type": "code",
   "execution_count": 197,
   "metadata": {},
   "outputs": [
    {
     "data": {
      "text/plain": [
       "0.2880441499395717"
      ]
     },
     "execution_count": 197,
     "metadata": {},
     "output_type": "execute_result"
    }
   ],
   "source": [
    "min(rmse_cv(classifier_adaboost, X_test, y_test))"
   ]
  },
  {
   "cell_type": "markdown",
   "metadata": {},
   "source": [
    "### 4. Avaliação baseada em acurácia e precisão\n",
    "\n",
    "Em termos de acurácia, o modelo que mostrou melhor desempenho foi o Decision Tree, com ```0.91``` e o KNN com pior acurácia, sendo esta de ```0.49```. Em termos de precisão, os modelos tiveram desempenho similar baseado nos reports obtidos. Para os eleitos, a precisão variou de ```0.67``` a ```0.75```, sendo a maior precisão também Decision Tree. O erro por sua vez foi menor para o KNN, com ```0.24```.\n",
    "\n",
    "Considerando isso, vamos pegar os valores de precisão para Decision Tree e submetê-los ao Kaggle."
   ]
  },
  {
   "cell_type": "code",
   "execution_count": 204,
   "metadata": {},
   "outputs": [],
   "source": [
    "test = pd.read_csv(\"test.csv\")\n",
    "test = pd.get_dummies(test)\n",
    "test_vars = ['quantidade_doacoes', 'quantidade_doadores', 'total_receita', 'media_receita', 'quantidade_despesas', 'total_despesa', 'media_despesa', 'sexo_MASCULINO', 'ocupacao_VEREADOR']\n",
    "ids = test[\"sequencial_candidato\"]\n",
    "test = test[test_vars]"
   ]
  },
  {
   "cell_type": "code",
   "execution_count": 215,
   "metadata": {},
   "outputs": [],
   "source": [
    "import csv \n",
    "\n",
    "def situacao_str(situacao):\n",
    "    if situacao == 1:\n",
    "        return \"eleito\"\n",
    "    return \"nao_eleito\"\n",
    "\n",
    "resultado = {\"Id\": ids, \"Predicted\": list(map(situacao_str, classifier_dt_entropy.predict(test)))}\n",
    "pd.DataFrame(resultado).to_csv(\"saida.csv\", quotechar=\"\\\"\", quoting=csv.QUOTE_NONNUMERIC, index=False)"
   ]
  }
 ],
 "metadata": {
  "kernelspec": {
   "display_name": "Python 3",
   "language": "python",
   "name": "python3"
  },
  "language_info": {
   "codemirror_mode": {
    "name": "ipython",
    "version": 3
   },
   "file_extension": ".py",
   "mimetype": "text/x-python",
   "name": "python",
   "nbconvert_exporter": "python",
   "pygments_lexer": "ipython3",
   "version": "3.5.2"
  }
 },
 "nbformat": 4,
 "nbformat_minor": 2
}
